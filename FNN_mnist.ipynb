{
 "cells": [
  {
   "cell_type": "code",
   "execution_count": null,
   "metadata": {
    "collapsed": true
   },
   "outputs": [],
   "source": [
    "## This is Feedforward Neural Net model for MNIST\n",
    "# It includes the following modules:\n",
    "#   - Pre-process dataset\n",
    "#   - Elaborate Neural networks recipes \n",
    "#   - Define training procedures\n",
    "#   - Train and test models\n",
    "#   - Generate prediction on new data\n",
    "#   - Observe metrics"
   ]
  },
  {
   "cell_type": "markdown",
   "metadata": {},
   "source": [
    "# Import main libaries"
   ]
  },
  {
   "cell_type": "code",
   "execution_count": 1,
   "metadata": {
    "collapsed": false
   },
   "outputs": [
    {
     "name": "stderr",
     "output_type": "stream",
     "text": [
      "Using TensorFlow backend.\n"
     ]
    }
   ],
   "source": [
    "from __future__ import print_function\n",
    "\n",
    "import keras.callbacks as cb\n",
    "from keras.datasets import mnist\n",
    "from keras.layers.core import Activation, Dense, Dropout\n",
    "from keras.models import Sequential\n",
    "from keras.optimizers import SGD\n",
    "from keras.regularizers import l1, l2\n",
    "from keras.utils import np_utils\n",
    "\n",
    "%matplotlib inline\n",
    "from matplotlib import pyplot as plt\n",
    "import numpy as np\n",
    "import time\n",
    "import pandas as pd"
   ]
  },
  {
   "cell_type": "markdown",
   "metadata": {},
   "source": [
    "# load and preprocess data"
   ]
  },
  {
   "cell_type": "code",
   "execution_count": 2,
   "metadata": {
    "collapsed": true
   },
   "outputs": [],
   "source": [
    "def preprocessDataset():\n",
    "    ## load the train data, type is pd.dataframe, shape is (42000,785)\n",
    "    train = pd.read_csv('train.csv')\n",
    "    \n",
    "    ## load the test data, type is pd.dataframe, shape is (28000,784)\n",
    "    test = pd.read_csv('test.csv')\n",
    "    \n",
    "    ## Separate the features X_train (42000,884) and the object labels y_train (42000,)\n",
    "    X_train = train.drop('label', 1)\n",
    "    y_train = train['label']\n",
    "    \n",
    "    ## Prepare the testing features X_test (28000,784)\n",
    "    X_test = test\n",
    "    \n",
    "    ## Transform objects to one-hot\n",
    "    ## i.e., from '6' to [0,0,0,0,0,0,1,0,0,0]\n",
    "    ## y_train type now is numpy.ndarray\n",
    "    y_train = np_utils.to_categorical(y_train, 10)\n",
    "    \n",
    "    ## Set features' numeric types\n",
    "    X_train=X_train.astype('float32')\n",
    "    X_test=X_test.astype('float32')\n",
    "    \n",
    "    ## Normalization features\n",
    "    ## option 1: Min-Max Normalize value to [0, 1]\n",
    "    X_train /= 255\n",
    "    X_test /= 255\n",
    "    \n",
    "    #################################################################\n",
    "    # option 2: proceed w/ standardizing datasets by z-scoring (de-mean, uni-variance).\n",
    "    # X_train = preprocessing.scale(X_train)\n",
    "    # X_test = preprocessing.scale(X_test)\n",
    "    #################################################################\n",
    "    \n",
    "    ## Transform datatype from pd.dataframe to numpy.ndarray as\n",
    "    ## kera model.fit only accept numpy.ndarray\n",
    "    X_train=X_train.as_matrix()\n",
    "    X_test=X_test.as_matrix()\n",
    "    \n",
    "    return X_train,y_train,X_test"
   ]
  },
  {
   "cell_type": "code",
   "execution_count": 3,
   "metadata": {
    "collapsed": false
   },
   "outputs": [],
   "source": [
    "X_train,y_train,X_test = preprocessDataset()"
   ]
  },
  {
   "cell_type": "code",
   "execution_count": 4,
   "metadata": {
    "collapsed": false
   },
   "outputs": [
    {
     "name": "stdout",
     "output_type": "stream",
     "text": [
      "                     X                      |  y  \n",
      "==================================================\n",
      "0.00 0.00 ... 0.00 0.00 0.00 ...  0.00 0.00 |  0\n",
      "0.00 0.00 ... 0.96 0.59 0.13 ...  0.00 0.00 |  1\n",
      "0.00 0.00 ... 0.00 0.00 0.00 ...  0.00 0.00 |  0\n",
      "0.00 0.00 ... 0.00 0.04 0.30 ...  0.00 0.00 |  0\n",
      "0.00 0.00 ... 0.99 0.99 0.45 ...  0.00 0.00 |  1\n",
      "0.00 0.00 ... 0.98 0.96 0.28 ...  0.00 0.00 |  1\n",
      "0.00 0.00 ... 0.00 0.00 0.00 ...  0.00 0.00 |  0\n",
      "0.00 0.00 ... 0.00 0.00 0.00 ...  0.00 0.00 |  0\n",
      "0.00 0.00 ... 0.70 1.00 1.00 ...  0.00 0.00 |  0\n",
      "0.00 0.00 ... 0.99 0.49 0.00 ...  0.00 0.00 |  0\n"
     ]
    }
   ],
   "source": [
    "## Show part of training data: features and labels\n",
    "## Each row is a sample, and each column represents a feature.\n",
    "print(\"{:^43}\".format(\"X\"), \"|\", \"{:^4}\".format(\"y\"))\n",
    "print(\"=\"*50)\n",
    "for sample_id in range(10):\n",
    "    print(\"{:.2f} {:.2f} ... {:.2f} {:.2f} {:.2f} ...  {:.2f} {:.2f}\".format(\n",
    "            X_train[sample_id][0], X_train[sample_id][1],\n",
    "            X_train[sample_id][156], X_train[sample_id][157], X_train[sample_id][158],\n",
    "            X_train[sample_id][-2], X_train[sample_id][-1]), \"| \",\n",
    "           \"{:.0f}\".format(y_train[sample_id][0]))"
   ]
  },
  {
   "cell_type": "markdown",
   "metadata": {},
   "source": [
    "# Define NN model"
   ]
  },
  {
   "cell_type": "code",
   "execution_count": 8,
   "metadata": {
    "collapsed": true
   },
   "outputs": [],
   "source": [
    "def defineModel():\n",
    "    ## Define network structures (i.e.: only one layer, or multi-layers with different width)\n",
    "    first_layer_width = 128\n",
    "    second_layer_width = 64\n",
    "    \n",
    "    ## Define activation function (i.e.:'sigmoid','tanh','relu')\n",
    "    activation_func = 'relu' \n",
    "    \n",
    "    ## Define loss function (i.e.:'mean_squared_error', 'categorical_crossentropy')\n",
    "    loss_function = 'categorical_crossentropy'\n",
    "    \n",
    "    ## Define dropout rate (i.e.: 0.0, 0.5, 0.9)\n",
    "    dropout_rate = 0.0\n",
    "    \n",
    "    ## Define Regularization (i.e.: None, l1(0.01), l2(0.01))\n",
    "    weight_regularizer = None\n",
    "    \n",
    "    ## Define learning rate (i.e.: 0.5, 0.1, 0.01, 0.001)\n",
    "    learning_rate = 0.1\n",
    "    \n",
    "    ## Initialize model,the type of model is keras.models.Sequential\n",
    "    model = Sequential()\n",
    "    \n",
    "    ## First hidden layer with 'first_layer_width' neurons. \n",
    "    ## Also need to specify input dimension.\n",
    "    ## 'Dense' means fully-connected.\n",
    "    model.add(Dense(first_layer_width, input_dim=784, W_regularizer=weight_regularizer))\n",
    "    model.add(Activation(activation_func))\n",
    "    if dropout_rate > 0:\n",
    "        model.add(Dropout(dropout_rate))\n",
    "\n",
    "    ## Second hidden layer.\n",
    "    if second_layer_width > 0:\n",
    "        model.add(Dense(second_layer_width))\n",
    "        model.add(Activation(activation_func))\n",
    "        if dropout_rate > 0:\n",
    "            model.add(Dropout(dropout_rate)) \n",
    "    \n",
    "    ## Last layer has the same dimension as the number of classes\n",
    "    model.add(Dense(10))\n",
    "    ## For classification, the activation is softmax\n",
    "    model.add(Activation('softmax'))\n",
    "    \n",
    "    ## Define optimizer (i.e.: SGD, RMSprop())\n",
    "    opt = SGD(lr=learning_rate, clipnorm=5.)\n",
    "    \n",
    "    ## Define loss function = 'categorical_crossentropy' or 'mean_squared_error'\n",
    "    model.compile(loss=loss_function, optimizer=opt, metrics=[\"accuracy\"])\n",
    "\n",
    "    return model"
   ]
  },
  {
   "cell_type": "markdown",
   "metadata": {},
   "source": [
    "# Define training produre"
   ]
  },
  {
   "cell_type": "code",
   "execution_count": 9,
   "metadata": {
    "collapsed": true
   },
   "outputs": [],
   "source": [
    "def trainModel(data=None, epochs=20):\n",
    "    ## Define mini-batch size (i.e.: 128, 256, 512)\n",
    "    mini_batch= 128\n",
    "    \n",
    "    ## Define start_time\n",
    "    start_time = time.time()\n",
    "    \n",
    "    ## Define the model\n",
    "    model = defineModel()\n",
    "    \n",
    "    ## Ask for data\n",
    "    if data is None:\n",
    "        print(\"Must provide data.\")\n",
    "        return\n",
    "    X_train, X_test, y_train = data\n",
    "    \n",
    "    ## Train the model start...\n",
    "    print('Start training...')\n",
    "    \n",
    "    ## Use the first 80% of samples to train, last 20% samples to validate\n",
    "    ## Training proportion\n",
    "    #split_proportion = 0.8\n",
    "    split_proportion = 0.95\n",
    "    \n",
    "    ## Get the number of the training examples\n",
    "    nbr_train = int(len(X_train) * split_proportion)\n",
    "    \n",
    "    \n",
    "    ## Start the model training\n",
    "    history = model.fit(X_train[:nbr_train], y_train[:nbr_train], nb_epoch=epochs, batch_size=mini_batch,\n",
    "              validation_data=(X_train[nbr_train:], y_train[nbr_train:]))\n",
    "    \n",
    "    ## Get total training time\n",
    "    print(\"Training took {0} seconds.\".format(time.time() - start_time))\n",
    "    return model, history"
   ]
  },
  {
   "cell_type": "markdown",
   "metadata": {},
   "source": [
    "# Start training"
   ]
  },
  {
   "cell_type": "code",
   "execution_count": 10,
   "metadata": {
    "collapsed": false
   },
   "outputs": [
    {
     "name": "stdout",
     "output_type": "stream",
     "text": [
      "Start training...\n",
      "Train on 39900 samples, validate on 2100 samples\n",
      "Epoch 1/20\n",
      "39900/39900 [==============================] - 4s - loss: 0.5179 - acc: 0.8580 - val_loss: 0.2981 - val_acc: 0.9148\n",
      "Epoch 2/20\n",
      "39900/39900 [==============================] - 3s - loss: 0.2444 - acc: 0.9290 - val_loss: 0.2328 - val_acc: 0.9357\n",
      "Epoch 3/20\n",
      "39900/39900 [==============================] - 4s - loss: 0.1892 - acc: 0.9453 - val_loss: 0.2007 - val_acc: 0.9381\n",
      "Epoch 4/20\n",
      "39900/39900 [==============================] - 4s - loss: 0.1541 - acc: 0.9559 - val_loss: 0.1774 - val_acc: 0.9514\n",
      "Epoch 5/20\n",
      "39900/39900 [==============================] - 4s - loss: 0.1309 - acc: 0.9618 - val_loss: 0.1563 - val_acc: 0.9552\n",
      "Epoch 6/20\n",
      "39900/39900 [==============================] - 4s - loss: 0.1113 - acc: 0.9680 - val_loss: 0.1504 - val_acc: 0.9605\n",
      "Epoch 7/20\n",
      "39900/39900 [==============================] - 3s - loss: 0.0977 - acc: 0.9722 - val_loss: 0.1360 - val_acc: 0.9619\n",
      "Epoch 8/20\n",
      "39900/39900 [==============================] - 4s - loss: 0.0863 - acc: 0.9751 - val_loss: 0.1235 - val_acc: 0.9633\n",
      "Epoch 9/20\n",
      "39900/39900 [==============================] - 3s - loss: 0.0760 - acc: 0.9785 - val_loss: 0.1182 - val_acc: 0.9648\n",
      "Epoch 10/20\n",
      "39900/39900 [==============================] - 3s - loss: 0.0681 - acc: 0.9801 - val_loss: 0.1132 - val_acc: 0.9695\n",
      "Epoch 11/20\n",
      "39900/39900 [==============================] - 4s - loss: 0.0614 - acc: 0.9824 - val_loss: 0.1058 - val_acc: 0.9690\n",
      "Epoch 12/20\n",
      "39900/39900 [==============================] - 4s - loss: 0.0545 - acc: 0.9844 - val_loss: 0.1021 - val_acc: 0.9710\n",
      "Epoch 13/20\n",
      "39900/39900 [==============================] - 4s - loss: 0.0493 - acc: 0.9861 - val_loss: 0.0997 - val_acc: 0.9705\n",
      "Epoch 14/20\n",
      "39900/39900 [==============================] - 3s - loss: 0.0441 - acc: 0.9879 - val_loss: 0.1028 - val_acc: 0.9705\n",
      "Epoch 15/20\n",
      "39900/39900 [==============================] - 3s - loss: 0.0397 - acc: 0.9891 - val_loss: 0.1024 - val_acc: 0.9710\n",
      "Epoch 16/20\n",
      "39900/39900 [==============================] - 4s - loss: 0.0361 - acc: 0.9904 - val_loss: 0.1012 - val_acc: 0.9710\n",
      "Epoch 17/20\n",
      "39900/39900 [==============================] - 4s - loss: 0.0322 - acc: 0.9920 - val_loss: 0.1009 - val_acc: 0.9700\n",
      "Epoch 18/20\n",
      "39900/39900 [==============================] - 3s - loss: 0.0298 - acc: 0.9923 - val_loss: 0.0985 - val_acc: 0.9724\n",
      "Epoch 19/20\n",
      "39900/39900 [==============================] - 3s - loss: 0.0263 - acc: 0.9943 - val_loss: 0.0969 - val_acc: 0.9710\n",
      "Epoch 20/20\n",
      "39900/39900 [==============================] - 3s - loss: 0.0245 - acc: 0.9942 - val_loss: 0.1078 - val_acc: 0.9676\n",
      "Training took 81.6092839241 seconds.\n"
     ]
    }
   ],
   "source": [
    "trained_model, training_history = trainModel(data=[X_train, X_test, y_train])"
   ]
  },
  {
   "cell_type": "markdown",
   "metadata": {
    "collapsed": true
   },
   "source": [
    "# Define Plotting"
   ]
  },
  {
   "cell_type": "code",
   "execution_count": 11,
   "metadata": {
    "collapsed": true
   },
   "outputs": [],
   "source": [
    "def plotHistory(train_value, test_value, value_is_loss_or_acc):\n",
    "    f, ax = plt.subplots()\n",
    "    ax.plot([None] + train_value, 'o-')\n",
    "    ax.plot([None] + test_value, 'x-')\n",
    "    \n",
    "    ## Plot legend and use the best location automatically: loc = 0.\n",
    "    ax.legend(['Train ' + value_is_loss_or_acc, 'Validation ' + value_is_loss_or_acc], loc = 0) \n",
    "    ax.set_title('Training/Validation ' + value_is_loss_or_acc + ' per Epoch')\n",
    "    ax.set_xlabel('Epoch')\n",
    "    ax.set_ylabel(value_is_loss_or_acc)  "
   ]
  },
  {
   "cell_type": "markdown",
   "metadata": {
    "collapsed": true
   },
   "source": [
    "# Observe Training Process"
   ]
  },
  {
   "cell_type": "code",
   "execution_count": 12,
   "metadata": {
    "collapsed": false
   },
   "outputs": [
    {
     "data": {
      "image/png": "[encoded data removed]",
      "text/plain": [
       "<matplotlib.figure.Figure at 0x118c92e50>"
      ]
     },
     "metadata": {},
     "output_type": "display_data"
    },
    {
     "data": {
      "image/png": "[encoded data removed]",
      "text/plain": [
       "<matplotlib.figure.Figure at 0x118c92d50>"
      ]
     },
     "metadata": {},
     "output_type": "display_data"
    }
   ],
   "source": [
    "plotHistory(training_history.history['loss'], training_history.history['val_loss'], 'Loss')\n",
    "plotHistory(training_history.history['acc'], training_history.history['val_acc'], 'Accuracy')"
   ]
  },
  {
   "cell_type": "markdown",
   "metadata": {
    "collapsed": true
   },
   "source": [
    "# Observe Regularization Effects"
   ]
  },
  {
   "cell_type": "code",
   "execution_count": 13,
   "metadata": {
    "collapsed": true
   },
   "outputs": [],
   "source": [
    "def drawWeightHistogram(x):\n",
    "    ## the histogram of the data\n",
    "    fig = plt.subplots()\n",
    "    n, bins, patches = plt.hist(x, 50)\n",
    "    plt.xlim(-0.5, 0.5)\n",
    "    plt.xlabel('Weight')\n",
    "    plt.ylabel('Count')\n",
    "    zero_counts = (x == 0.0).sum()\n",
    "    plt.title(\"Weight Histogram. Num of '0's: %d\" % zero_counts)"
   ]
  },
  {
   "cell_type": "code",
   "execution_count": 14,
   "metadata": {
    "collapsed": false
   },
   "outputs": [
    {
     "data": {
      "image/png": "[encoded data removed]",
      "text/plain": [
       "<matplotlib.figure.Figure at 0x11841f0d0>"
      ]
     },
     "metadata": {},
     "output_type": "display_data"
    }
   ],
   "source": [
    "w1 = trained_model.layers[0].get_weights()[0].flatten()\n",
    "drawWeightHistogram(w1)"
   ]
  },
  {
   "cell_type": "code",
   "execution_count": 15,
   "metadata": {
    "collapsed": false
   },
   "outputs": [
    {
     "data": {
      "text/plain": [
       "keras.models.Sequential"
      ]
     },
     "execution_count": 15,
     "metadata": {},
     "output_type": "execute_result"
    }
   ],
   "source": [
    "type(trained_model)"
   ]
  },
  {
   "cell_type": "markdown",
   "metadata": {},
   "source": [
    "# Generate Prediction on New Data"
   ]
  },
  {
   "cell_type": "code",
   "execution_count": 70,
   "metadata": {
    "collapsed": false
   },
   "outputs": [],
   "source": [
    "def genPred(model=None, data=None, batch_size_number=0):\n",
    "    if model is None:\n",
    "        print(\"Must provide a trained model.\")\n",
    "        return\n",
    "    if data is None:\n",
    "        print(\"Must provide data.\")\n",
    "        return\n",
    "    \n",
    "    ## generate prediction\n",
    "    # example: classes = model.predict_classes(X_test, batch_size=128)\n",
    "    X_test = data\n",
    "    \n",
    "    # type(y_test) is numpy.ndarray, shape is (28000, )\n",
    "    y_test = model.predict_classes(X_test, batch_size=batch_size_number)\n",
    "    \n",
    "    ## Transform objects to one-hot if needed\n",
    "    ## i.e., from '6' to [0,0,0,0,0,0,1,0,0,0]\n",
    "    ## y_test type is numpy.ndarray\n",
    "    y_test_onehot = np_utils.to_categorical(y_test, 10)\n",
    "    \n",
    "    ## mesaure prediction probability\n",
    "    proba = model.predict_proba(X_test, batch_size=batch_size_number)\n",
    "    \n",
    "    return y_test, y_test_onehot, proba"
   ]
  },
  {
   "cell_type": "code",
   "execution_count": 71,
   "metadata": {
    "collapsed": false
   },
   "outputs": [
    {
     "name": "stdout",
     "output_type": "stream",
     "text": [
      "27904/28000 [============================>.] - ETA: 0s"
     ]
    }
   ],
   "source": [
    "y_test, y_test_onehot, proba = genPred(model=trained_model, data=X_test, batch_size_number=128)"
   ]
  },
  {
   "cell_type": "code",
   "execution_count": 72,
   "metadata": {
    "collapsed": false
   },
   "outputs": [
    {
     "data": {
      "text/plain": [
       "array([2, 0, 9, 9, 3, 7, 0, 3, 0, 3])"
      ]
     },
     "execution_count": 72,
     "metadata": {},
     "output_type": "execute_result"
    }
   ],
   "source": [
    "y_test[0:10]"
   ]
  },
  {
   "cell_type": "code",
   "execution_count": 73,
   "metadata": {
    "collapsed": false
   },
   "outputs": [
    {
     "data": {
      "text/plain": [
       "array([[ 0.,  0.,  1.,  0.,  0.,  0.,  0.,  0.,  0.,  0.],\n",
       "       [ 1.,  0.,  0.,  0.,  0.,  0.,  0.,  0.,  0.,  0.],\n",
       "       [ 0.,  0.,  0.,  0.,  0.,  0.,  0.,  0.,  0.,  1.],\n",
       "       [ 0.,  0.,  0.,  0.,  0.,  0.,  0.,  0.,  0.,  1.],\n",
       "       [ 0.,  0.,  0.,  1.,  0.,  0.,  0.,  0.,  0.,  0.],\n",
       "       [ 0.,  0.,  0.,  0.,  0.,  0.,  0.,  1.,  0.,  0.],\n",
       "       [ 1.,  0.,  0.,  0.,  0.,  0.,  0.,  0.,  0.,  0.],\n",
       "       [ 0.,  0.,  0.,  1.,  0.,  0.,  0.,  0.,  0.,  0.],\n",
       "       [ 1.,  0.,  0.,  0.,  0.,  0.,  0.,  0.,  0.,  0.],\n",
       "       [ 0.,  0.,  0.,  1.,  0.,  0.,  0.,  0.,  0.,  0.]])"
      ]
     },
     "execution_count": 73,
     "metadata": {},
     "output_type": "execute_result"
    }
   ],
   "source": [
    "y_test_onehot[0:10]"
   ]
  },
  {
   "cell_type": "code",
   "execution_count": 38,
   "metadata": {
    "collapsed": false
   },
   "outputs": [
    {
     "data": {
      "text/plain": [
       "array([  9.99999285e-01,   2.63978950e-10,   7.48083835e-07,\n",
       "         4.34339564e-10,   1.88310766e-13,   1.09961720e-08,\n",
       "         1.09582752e-08,   1.05985953e-09,   2.66482821e-12,\n",
       "         1.77838633e-10], dtype=float32)"
      ]
     },
     "execution_count": 38,
     "metadata": {},
     "output_type": "execute_result"
    }
   ],
   "source": [
    "proba[1]"
   ]
  },
  {
   "cell_type": "markdown",
   "metadata": {
    "collapsed": true
   },
   "source": [
    "# Define Testing Procedure"
   ]
  },
  {
   "cell_type": "code",
   "execution_count": 39,
   "metadata": {
    "collapsed": true
   },
   "outputs": [],
   "source": [
    "## Using the testingModel function only if there is y_test existing;\n",
    "## If not, just using genPred function to predict y_test\n",
    "def testingModel(model=None, data=None):\n",
    "    if model is None:\n",
    "        print(\"Must provide a trained model.\")\n",
    "        return\n",
    "    if data is None:\n",
    "        print(\"Must provide data.\")\n",
    "        return\n",
    "    X_test, y_test = data\n",
    "    \n",
    "    ## use model.evalute(x_test, y_test) to evaluate the performance\n",
    "    scores = model.evaluate(X_test, y_test)\n",
    "    return scores"
   ]
  },
  {
   "cell_type": "markdown",
   "metadata": {
    "collapsed": true
   },
   "source": [
    "# Test Trained Model"
   ]
  },
  {
   "cell_type": "code",
   "execution_count": 74,
   "metadata": {
    "collapsed": false
   },
   "outputs": [
    {
     "name": "stdout",
     "output_type": "stream",
     "text": [
      "27872/28000 [============================>.] - ETA: 0sTest loss 0.0266, accuracy 100.00%\n"
     ]
    }
   ],
   "source": [
    "test_score = testingModel(model=trained_model, data=[X_test, y_test_onehot])\n",
    "print(\"Test loss {:.4f}, accuracy {:.2f}%\".format(test_score[0], test_score[1] * 100))"
   ]
  },
  {
   "cell_type": "code",
   "execution_count": 41,
   "metadata": {
    "collapsed": true
   },
   "outputs": [],
   "source": [
    "## customize showing input image figure\n",
    "def showInputImage(data):\n",
    "    \"\"\"Visualize input image.\"\"\"\n",
    "    plot = plt.figure()\n",
    "    plot.set_size_inches(2,2)\n",
    "    plt.imshow(np.reshape(-data, (28,28)), cmap='Greys_r')\n",
    "    plt.title(\"Input\")\n",
    "    plt.axis('off')\n",
    "    plt.show()"
   ]
  },
  {
   "cell_type": "code",
   "execution_count": 42,
   "metadata": {
    "collapsed": true
   },
   "outputs": [],
   "source": [
    "## customize showing the hidden layer output\n",
    "def showHiddenLayerOutput(input_data, target_layer_num):\n",
    "    \"\"\"Visualize output from the target hidden layer.\"\"\"\n",
    "    from keras import backend as K\n",
    "    ## Backend converter: to TensorFlow\n",
    "    target_layer = K.function(trained_model.inputs, [trained_model.layers[target_layer_num].output])\n",
    "    ## Extract output from the target hidden layer.\n",
    "    target_layer_out = target_layer([input_data])\n",
    "    plot = plt.figure()\n",
    "    plot.set_size_inches(2,2)\n",
    "    plt.imshow(np.reshape(-target_layer_out[0][0], (16,-1)), cmap='Greys_r')\n",
    "    plt.title(\"Hidden layer \" + str(target_layer_num))\n",
    "    plt.axis('off')\n",
    "    plt.show()"
   ]
  },
  {
   "cell_type": "code",
   "execution_count": 43,
   "metadata": {
    "collapsed": true
   },
   "outputs": [],
   "source": [
    "## customize showing the final output figure\n",
    "def showFinalOutput(input_data):\n",
    "    \"\"\"Calculate final prediction.\"\"\"\n",
    "    from keras import backend as K\n",
    "    ## Backend converter: to TensorFlow\n",
    "    ## Calculate final prediction.\n",
    "    last_layer = K.function(trained_model.inputs, [trained_model.layers[-1].output])\n",
    "    last_layer_out = last_layer([input_data])\n",
    "    print(\"Final prediction: \" + str(np.argmax(last_layer_out[0][0])) )\n"
   ]
  },
  {
   "cell_type": "code",
   "execution_count": 46,
   "metadata": {
    "collapsed": false
   },
   "outputs": [
    {
     "data": {
      "text/plain": [
       "(784,)"
      ]
     },
     "execution_count": 46,
     "metadata": {},
     "output_type": "execute_result"
    }
   ],
   "source": [
    "X_test[0].shape"
   ]
  },
  {
   "cell_type": "code",
   "execution_count": 48,
   "metadata": {
    "collapsed": false
   },
   "outputs": [
    {
     "data": {
      "image/png": "[encoded data removed]",
      "text/plain": [
       "<matplotlib.figure.Figure at 0x118f5bc10>"
      ]
     },
     "metadata": {},
     "output_type": "display_data"
    }
   ],
   "source": [
    "## showing the first row (first test data) in figure\n",
    "showInputImage(X_test[0])"
   ]
  },
  {
   "cell_type": "code",
   "execution_count": 83,
   "metadata": {
    "collapsed": false
   },
   "outputs": [
    {
     "data": {
      "image/png": "[encoded data removed]",
      "text/plain": [
       "<matplotlib.figure.Figure at 0x118cdeb90>"
      ]
     },
     "metadata": {},
     "output_type": "display_data"
    }
   ],
   "source": [
    "## showing the hidden layer output of the test data\n",
    "showHiddenLayerOutput(X_test, 1)"
   ]
  },
  {
   "cell_type": "code",
   "execution_count": 50,
   "metadata": {
    "collapsed": false
   },
   "outputs": [
    {
     "name": "stdout",
     "output_type": "stream",
     "text": [
      "Final prediction: 2\n"
     ]
    }
   ],
   "source": [
    "## showing the final output of the test data based on the trained_model\n",
    "showFinalOutput(X_test)"
   ]
  },
  {
   "cell_type": "code",
   "execution_count": 75,
   "metadata": {
    "collapsed": false
   },
   "outputs": [
    {
     "data": {
      "text/plain": [
       "(28000,)"
      ]
     },
     "execution_count": 75,
     "metadata": {},
     "output_type": "execute_result"
    }
   ],
   "source": [
    "y_test.shape"
   ]
  },
  {
   "cell_type": "code",
   "execution_count": 81,
   "metadata": {
    "collapsed": false
   },
   "outputs": [
    {
     "data": {
      "text/plain": [
       "9"
      ]
     },
     "execution_count": 81,
     "metadata": {},
     "output_type": "execute_result"
    }
   ],
   "source": [
    "y_test[3]"
   ]
  },
  {
   "cell_type": "code",
   "execution_count": 80,
   "metadata": {
    "collapsed": false
   },
   "outputs": [
    {
     "data": {
      "image/png": "[encoded data removed]",
      "text/plain": [
       "<matplotlib.figure.Figure at 0x11dbd38d0>"
      ]
     },
     "metadata": {},
     "output_type": "display_data"
    }
   ],
   "source": [
    "showInputImage(X_test[3])"
   ]
  },
  {
   "cell_type": "markdown",
   "metadata": {},
   "source": [
    "# Submit the prediction results"
   ]
  },
  {
   "cell_type": "code",
   "execution_count": 68,
   "metadata": {
    "collapsed": true
   },
   "outputs": [],
   "source": [
    "def genSubmit(predictData):\n",
    "    ## Create the file for submission if not exist\n",
    "    # !touch dnn_submission_1.csv\n",
    "    \n",
    "    dnn_y_predict = predictData\n",
    "    \n",
    "    ## save to csv file with format\n",
    "    dnn_submission = pd.DataFrame({'ImageId':range(1, 28001), 'Label': dnn_y_predict})\n",
    "    dnn_submission.to_csv('dnn_submission_1.csv', index = False)"
   ]
  },
  {
   "cell_type": "code",
   "execution_count": 77,
   "metadata": {
    "collapsed": false
   },
   "outputs": [],
   "source": [
    "genSubmit(y_test)"
   ]
  },
  {
   "cell_type": "markdown",
   "metadata": {},
   "source": [
    "# Check the submission result"
   ]
  },
  {
   "cell_type": "code",
   "execution_count": 79,
   "metadata": {
    "collapsed": false
   },
   "outputs": [
    {
     "name": "stdout",
     "output_type": "stream",
     "text": [
      "ImageId,Label\r\n",
      "1,2\r\n",
      "2,0\r\n",
      "3,9\r\n",
      "4,9\r\n"
     ]
    }
   ],
   "source": [
    "## Check the first 5 data\n",
    "!head -5 dnn_submission_1.csv"
   ]
  },
  {
   "cell_type": "code",
   "execution_count": null,
   "metadata": {
    "collapsed": true
   },
   "outputs": [],
   "source": []
  }
 ],
 "metadata": {
  "anaconda-cloud": {},
  "kernelspec": {
   "display_name": "Python [conda env:py27]",
   "language": "python",
   "name": "conda-env-py27-py"
  },
  "language_info": {
   "codemirror_mode": {
    "name": "ipython",
    "version": 2
   },
   "file_extension": ".py",
   "mimetype": "text/x-python",
   "name": "python",
   "nbconvert_exporter": "python",
   "pygments_lexer": "ipython2",
   "version": "2.7.13"
  }
 },
 "nbformat": 4,
 "nbformat_minor": 1
}
